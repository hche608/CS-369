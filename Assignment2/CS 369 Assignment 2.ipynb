{
 "cells": [
  {
   "cell_type": "markdown",
   "metadata": {},
   "source": [
    "### Introduction\n",
    "The sequences referred to in this assignment are all assumed to be DNA sequences with four bases, {A,C,T,G}."
   ]
  },
  {
   "cell_type": "code",
   "execution_count": 1,
   "metadata": {
    "collapsed": true
   },
   "outputs": [],
   "source": [
    "import math\n",
    "import random\n",
    "import statistics\n",
    "\n",
    "BASES = ['A', 'C', 'G', 'T']\n",
    "GAP = '-'\n",
    "\n",
    "def randomInt(_i):\n",
    "    return int(math.floor(random.random() * _i))\n",
    "\n",
    "# Random Choice from bases\n",
    "def randomChoice(_bases):\n",
    "    return _bases[randomInt(len(_bases))]\n",
    "\n",
    "def randomSequence(_L, _bases):\n",
    "    _list = []\n",
    "    while len(_list) < _L:\n",
    "        _list.append(randomChoice(_bases))\n",
    "    return ''.join(_list)\n",
    "\n",
    "def randomExp(lamda):\n",
    "    return - math.log(1 - random.random()) / lamda\n",
    "\n",
    "def poissonProcess(lamda, _T):\n",
    "    eventTime = []\n",
    "    t = randomExp(lamda)\n",
    "    while t < _T: # draw exp(lamdaa) variables until we are past T\n",
    "        eventTime.append(t)\n",
    "        t += randomExp(lamda)\n",
    "    return eventTime\n",
    "\n",
    "def lenOfSequence(S):\n",
    "    return int(sum(1 for s in S if s != GAP))"
   ]
  },
  {
   "cell_type": "markdown",
   "metadata": {},
   "source": [
    "### Part 1\n",
    "The Jukes-Cantor model of DNA sequence evolution is simple: each site mutates at rate $ \\mu $ and when a mutation occurs, a new base is chosen uniformly at random from the four possible bases, ｛A; C; G; T｝. If we ignore mutations from base X to base X, the mutation rate is $\\frac{3}{4}\\mu$. All sites mutate independently of each other."
   ]
  },
  {
   "cell_type": "markdown",
   "metadata": {},
   "source": [
    "(a)"
   ]
  },
  {
   "cell_type": "code",
   "execution_count": 2,
   "metadata": {
    "collapsed": true
   },
   "outputs": [],
   "source": [
    "def evolveSequence(_A, mu, t, _bases):\n",
    "    _A = list(_A)\n",
    "    L = len(_A)\n",
    "    lamda = L * 3/4 * mu\n",
    "    for i in range(len(poissonProcess(lamda,t))):\n",
    "        i = randomInt(L)\n",
    "        # from the 3 possible bases to mutate\n",
    "        tmp = list(_bases)\n",
    "        tmp.remove(_A[i])\n",
    "        _A[i] = randomChoice(tmp)\n",
    "\n",
    "    return''.join(_A)\n",
    "\n",
    "def simulateSiblings(L, mu, t, _bases):\n",
    "    A = randomSequence(L, _bases)\n",
    "    B = evolveSequence(A, mu, t, _bases)\n",
    "    C = evolveSequence(A, mu, t, _bases)\n",
    "    return A, B, C\n",
    "\n",
    "L = 50\n",
    "mu = 0.01\n",
    "t = 10\n",
    "A, B, C = simulateSiblings(L, mu, t, BASES)"
   ]
  },
  {
   "cell_type": "code",
   "execution_count": 3,
   "metadata": {
    "collapsed": false
   },
   "outputs": [
    {
     "name": "stdout",
     "output_type": "stream",
     "text": [
      "A: CTATTGAGTTGATCTACGGAGGGGGCGAACATACGGGCATAAGGGTCTAG\n",
      "B: CTATTGACTTGATCTACGGCGGGGGCGAACATACGGGCATAAGGGTCTAG\n",
      "C: CTATTGAGTTGATATACGAAGGGGGCGCACATACTAGCATTAGGGTCTAG\n"
     ]
    }
   ],
   "source": [
    "print('A: ' + A)\n",
    "print('B: ' + B)\n",
    "print('C: ' + C)"
   ]
  },
  {
   "cell_type": "markdown",
   "metadata": {},
   "source": [
    "(b)\n",
    "The expected number of mutations for a single evolutionary process is $t\\lambda = tL3/4\\lambda$ and the expected number of mutations between two sibling sequences is $2tL34\\mu$."
   ]
  },
  {
   "cell_type": "code",
   "execution_count": 4,
   "metadata": {
    "collapsed": false
   },
   "outputs": [
    {
     "name": "stdout",
     "output_type": "stream",
     "text": [
      "Num of A diff B : 2\n",
      "Num of A diff C : 6\n",
      "Num of B diff C : 8\n"
     ]
    }
   ],
   "source": [
    "def countDiffs(A, B):\n",
    "    return sum(1 for x, y in zip(A, B) if x != y)\n",
    "\n",
    "print('Num of A diff B : ' + str(countDiffs(A, B)))\n",
    "print('Num of A diff C : ' + str(countDiffs(A, C)))\n",
    "print('Num of B diff C : ' + str(countDiffs(B, C)))"
   ]
  },
  {
   "cell_type": "code",
   "execution_count": 5,
   "metadata": {
    "collapsed": false
   },
   "outputs": [
    {
     "name": "stdout",
     "output_type": "stream",
     "text": [
      "Mean: 294.387\n",
      "Variance: 199.61084184184185\n"
     ]
    }
   ],
   "source": [
    "n = 1000\n",
    "L = 1000\n",
    "mu = 0.01\n",
    "t = 25\n",
    "diffs = []\n",
    "for _ in range(n):\n",
    "    _, B, C = simulateSiblings(L, mu, t, BASES)\n",
    "    diffs.append(countDiffs(B, C))\n",
    "\n",
    "print('Mean: ' + str(statistics.mean(diffs)))\n",
    "print('Variance: ' + str(statistics.variance(diffs)))"
   ]
  },
  {
   "cell_type": "markdown",
   "metadata": {},
   "source": [
    "The mean or expected value of Poisson distributed is equal to its parameter, the sum of the independent Possion vars is also Possion distributed by the sum of parameters.  \n",
    "\n",
    "The number of mutations is Poisson distributed with parameter, $2tL\\frac{3}{4}\\mu$ the number of differing due to the mutation could be happened at same site more than once."
   ]
  },
  {
   "cell_type": "markdown",
   "metadata": {},
   "source": [
    "(c)"
   ]
  },
  {
   "cell_type": "code",
   "execution_count": 6,
   "metadata": {
    "collapsed": false
   },
   "outputs": [],
   "source": [
    "L = 10000\n",
    "mu = 0.03\n",
    "t = 10\n",
    "_, B, C = simulateSiblings(L, mu, t, BASES)\n",
    "empiricalProbabilities = {}\n",
    "theoreticalProbabilities = {}\n",
    "for a in BASES:\n",
    "    for b in BASES:\n",
    "        empiricalProbabilities[(a,b)] = (sum(1 for x,y in zip(B,C) if (x,y) == (a,b)) / B.count(a) \n",
    "                                         + sum(1 for x,y in zip(B,C) if (x,y) == (b,a)) / B.count(b)) / 2\n",
    "        theoreticalProbabilities[(a,b)] = 1/4 + (3/4 if a == b else -1/4) * math.exp(-2 * t * mu)"
   ]
  },
  {
   "cell_type": "code",
   "execution_count": 7,
   "metadata": {
    "collapsed": false
   },
   "outputs": [
    {
     "data": {
      "text/plain": [
       "{('A', 'A'): 0.675751503006012,\n",
       " ('A', 'C'): 0.10958176515632892,\n",
       " ('A', 'G'): 0.10446101282613016,\n",
       " ('A', 'T'): 0.1137409784051133,\n",
       " ('C', 'A'): 0.10958176515632892,\n",
       " ('C', 'C'): 0.6621951219512195,\n",
       " ('C', 'G'): 0.11446974774407243,\n",
       " ('C', 'T'): 0.1129484538728576,\n",
       " ('G', 'A'): 0.10446101282613016,\n",
       " ('G', 'C'): 0.11446974774407243,\n",
       " ('G', 'G'): 0.6527279968140183,\n",
       " ('G', 'T'): 0.11856096788966747,\n",
       " ('T', 'A'): 0.1137409784051133,\n",
       " ('T', 'C'): 0.1129484538728576,\n",
       " ('T', 'G'): 0.11856096788966747,\n",
       " ('T', 'T'): 0.6617995264404104}"
      ]
     },
     "execution_count": 7,
     "metadata": {},
     "output_type": "execute_result"
    }
   ],
   "source": [
    "empiricalProbabilities"
   ]
  },
  {
   "cell_type": "code",
   "execution_count": 8,
   "metadata": {
    "collapsed": false
   },
   "outputs": [
    {
     "data": {
      "text/plain": [
       "{('A', 'A'): 0.6616087270705198,\n",
       " ('A', 'C'): 0.1127970909764934,\n",
       " ('A', 'G'): 0.1127970909764934,\n",
       " ('A', 'T'): 0.1127970909764934,\n",
       " ('C', 'A'): 0.1127970909764934,\n",
       " ('C', 'C'): 0.6616087270705198,\n",
       " ('C', 'G'): 0.1127970909764934,\n",
       " ('C', 'T'): 0.1127970909764934,\n",
       " ('G', 'A'): 0.1127970909764934,\n",
       " ('G', 'C'): 0.1127970909764934,\n",
       " ('G', 'G'): 0.6616087270705198,\n",
       " ('G', 'T'): 0.1127970909764934,\n",
       " ('T', 'A'): 0.1127970909764934,\n",
       " ('T', 'C'): 0.1127970909764934,\n",
       " ('T', 'G'): 0.1127970909764934,\n",
       " ('T', 'T'): 0.6616087270705198}"
      ]
     },
     "execution_count": 8,
     "metadata": {},
     "output_type": "execute_result"
    }
   ],
   "source": [
    "theoreticalProbabilities"
   ]
  },
  {
   "cell_type": "markdown",
   "metadata": {},
   "source": [
    "The result shows they are close."
   ]
  },
  {
   "cell_type": "markdown",
   "metadata": {},
   "source": [
    "===============================================================================================================\n",
    "### Part 2\n",
    "Insert or delete sequence.\n",
    "\n",
    "Simulate insertions:\n",
    "    draw a Poisson random variate, $hI$ , with rate $Lt\\mu=10$ giving the number of insertions.\n",
    "\n",
    "Simulate deletions: \n",
    "    draw a Poisson random variate, $hD$, with parameter $Lt\\mu=10$ giving the number of deletions (use the $L$  for the ancestral sequence).\n",
    "(a)"
   ]
  },
  {
   "cell_type": "code",
   "execution_count": 9,
   "metadata": {
    "collapsed": true
   },
   "outputs": [],
   "source": [
    "def simulateSiblingsInsertdelete(L, mu, t, _bases):\n",
    "    A, B, C = map(list, simulateSiblings(L, mu, t, _bases))\n",
    "    lamda = L * t * mu / 10\n",
    "    h_I = len(poissonProcess(lamda,1))\n",
    "    h_D = len(poissonProcess(lamda,1))\n",
    "    print(h_I)\n",
    "    print(h_D)\n",
    "    for _ in range(h_D):\n",
    "        # Choose i from non-gap sites\n",
    "        i = min(randomInt(len(C)) + 1, len(C) - 3)\n",
    "        C[i:i+3] = [GAP] * 3\n",
    "    \n",
    "    for _ in range(h_I):\n",
    "        i = min(randomInt(len(B)) + 1, len(B) - 1)\n",
    "        # Insertion\n",
    "        B[i:i] = list(randomSequence(3, _bases))\n",
    "        # Gaps for sibling\n",
    "        C[i:i] = [GAP] * 3\n",
    "    A, B, C = map(''.join, [A, B, C])\n",
    "    return A, B, C"
   ]
  },
  {
   "cell_type": "code",
   "execution_count": 10,
   "metadata": {
    "collapsed": false
   },
   "outputs": [
    {
     "name": "stdout",
     "output_type": "stream",
     "text": [
      "1\n",
      "2\n",
      "CCAGGATTAGATCGCTACATAGCCTTCGGAAGTATCGCGGGCTAATTTGT\n",
      "CCAGTATGAGATCGCGAAATGGCCTTCGGAAGTGCCGCGGGCTCTAAAATGGT\n",
      "CCAG---TAAATCGCAACATAGCCTTCGGAAGTATCGCGGGCT------TTGT\n"
     ]
    }
   ],
   "source": [
    "L = 50\n",
    "mu = 0.01\n",
    "t = 20\n",
    "A, B, C = simulateSiblingsInsertdelete(L, mu, t, BASES)\n",
    "print(A)\n",
    "print(B)\n",
    "print(C)"
   ]
  },
  {
   "cell_type": "markdown",
   "metadata": {},
   "source": [
    "The output displays the result of insertion and deletion.\n",
    "\n",
    "(b)    \n",
    "The total number of events on the tree is no greater than Poisson distributed due to  the event rate is not constant through time.\n",
    "\n",
    "===============================================================================================================\n",
    "### Part 3"
   ]
  },
  {
   "cell_type": "code",
   "execution_count": 11,
   "metadata": {
    "collapsed": true
   },
   "outputs": [],
   "source": [
    "def alignOverlap(X, Y, S, d):\n",
    "    # F[][] = 0\n",
    "    F = [[0] * (len(X) + 1) for _ in range(len(Y) + 1)]\n",
    "\n",
    "    for y in range(len(Y) + 1):\n",
    "        for x in range(len(X) + 1):\n",
    "            # F[0][] or F[][0] = 0\n",
    "            if x == 0 or y == 0:\n",
    "                F[y][x] = 0\n",
    "            else:\n",
    "                match = F[y-1][x-1] + S[Y[y-1]][X[x-1]]\n",
    "                delete = F[y-1][x] + d\n",
    "                insert = F[y][x-1] + d\n",
    "                F[y][x] = max(match, delete, insert)\n",
    "\n",
    "    # find i and j of Max of the F\n",
    "    i = 0\n",
    "    j = 0\n",
    "    alignmentX = ''\n",
    "    alignmentY = ''\n",
    "    tmp = list(F[-1]) + [r[-1] for r in F]\n",
    "    # print(tmp.index(max(tmp)) % len(F[-1]))\n",
    "    if tmp.index(max(tmp)) > len(F[-1]):\n",
    "        i = tmp.index(max(tmp)) % len(F[-1])\n",
    "        j = len(X)\n",
    "    else:\n",
    "        i = len(Y)\n",
    "        j = tmp.index(max(tmp))\n",
    "    score = F[i][j]\n",
    "    # Append Gaps\n",
    "    if i + 1 < len(Y):\n",
    "        alignmentX = GAP * (len(X) - i)\n",
    "        alignmentY = Y[i:]\n",
    "    elif j + 1 < len(X):\n",
    "        alignmentX = X[j:]\n",
    "        alignmentY = GAP * (len(Y) - j)\n",
    "\n",
    "    # Backtrack to form alignment for overlapping region\n",
    "    while i > 0 or j > 0: # match\n",
    "        if i > 0 and j > 0 and F[i][j] == F[i-1][j-1] + S[Y[i-1]][X[j-1]]:\n",
    "            alignmentX = X[j-1] + alignmentX\n",
    "            alignmentY = Y[i-1] + alignmentY\n",
    "            i -= 1\n",
    "            j -= 1\n",
    "        elif i > 0 and F[i][j] == F[i-1][j] + d: # deletion\n",
    "            alignmentY = Y[i-1] + alignmentY\n",
    "            alignmentX = GAP + alignmentX\n",
    "            i -= 1\n",
    "        elif j > 0 and F[i][j] == F[i][j-1] + d: # insertion\n",
    "            alignmentY = GAP + alignmentY\n",
    "            alignmentX = X[j-1] + alignmentX\n",
    "            j -= 1\n",
    "        else:\n",
    "            break\n",
    "            \n",
    "    # Append Gaps\n",
    "    if j > 0:\n",
    "        alignmentX = X[:j] + alignmentX\n",
    "        alignmentY = GAP * j + alignmentY\n",
    "    elif i > 0:\n",
    "        alignmentX = GAP * i + alignmentX\n",
    "        alignmentY = Y[:i] + alignmentY\n",
    "\n",
    "    return alignmentX, alignmentY, score\n",
    "\n",
    "def scoreMatrix(_bases, score):\n",
    "    return {x: {y: score[0] if x == y else score[1] for y in BASES} for x in BASES}"
   ]
  },
  {
   "cell_type": "code",
   "execution_count": 12,
   "metadata": {
    "collapsed": false
   },
   "outputs": [
    {
     "name": "stdout",
     "output_type": "stream",
     "text": [
      "B: CCAGTATGAGATCGCGAAATGGCCTTCGGAAGTGCCGCGGGCTCTAAAATGGT\n",
      "C: CCAG---TAAATCGCAACATAGCCTTCGGAAGTATCGCGGGCT------TTGT\n",
      "B': CCAGTATGAGATCGCGAAATGGCCTTCGGAAGTGC\n",
      "C': CGCAACATAGCCTTCGGAAGTATCGCGGGCTTTGT\n",
      "d = -4, score = 26\n",
      "CCAGTATGAGATCGCGAAATGGCCTTCGGAAGTGC------------\n",
      "------------CGCAACATAGCCTTCGGAAGTATCGCGGGCTTTGT\n",
      "d = -3, score = 27\n",
      "CCAGTATGAGATCGCGAAATGGCCTTCGGAAGT-GC-----------\n",
      "------------CGCAACATAGCCTTCGGAAGTATCGCGGGCTTTGT\n",
      "d = -2, score = 30\n",
      "CCAGTATGAGATCGCGAA-ATGGCCTTCGGAAGT-GC-----------\n",
      "------------CGC-AACATAGCCTTCGGAAGTATCGCGGGCTTTGT\n",
      "d = -1, score = 35\n",
      "CCAGTATGAGATCGCGAA-ATGGCCTTCGGAAG--T-GC---------\n",
      "------------CGC-AACATAGCCTTCGGAAGTATCGCGGGCTTTGT\n"
     ]
    }
   ],
   "source": [
    "S = scoreMatrix(BASES, [2,-2])\n",
    "\n",
    "Bp = B.replace(GAP, '')[:35]\n",
    "Cp = C.replace(GAP, '')[-35:]\n",
    "\n",
    "print('B: ' + B)\n",
    "print('C: ' + C)\n",
    "\n",
    "print('B\\': ' + Bp)\n",
    "print('C\\': ' + Cp)\n",
    "\n",
    "for d in range(-4, 0):\n",
    "    alignmentB, alignmentC, score = alignOverlap(Bp, Cp, S, d)\n",
    "    print('d = {}, score = {}'.format(d, score))\n",
    "    print(alignmentB)\n",
    "    print(alignmentC)"
   ]
  },
  {
   "cell_type": "code",
   "execution_count": 13,
   "metadata": {
    "collapsed": false
   },
   "outputs": [
    {
     "name": "stdout",
     "output_type": "stream",
     "text": [
      "B: ATCAGTTTGGAGAGGCCAGCTAAATCGCTGATGGTCACTGCCTCGTGCTT\n",
      "C: AGGAATGTTCAGCTAAAACGCTGATGGCCACTGACTTGTGATT\n",
      "B': ATCAGTTTGGAGAGGCCAGCTAAATCGCTGATGGT\n",
      "C': TCAGCTAAAACGCTGATGGCCACTGACTTGTGATT\n",
      "ATCAGTTTGGAGAGGCCAGCTAAATCGCTGATGGT---------------\n",
      "---------------TCAGCTAAAACGCTGATGGCCACTGACTTGTGATT\n"
     ]
    }
   ],
   "source": [
    "B = 'ATCAGTTTGGAGAGGCCAGCTAAATCGCTGATGGTCACTGCCTCGTGCTT'\n",
    "C = 'AGGAATGTTCAGCTAAAACGCTGATGGCCACTGACTTGTGATT'\n",
    "S = scoreMatrix(BASES, [2,-2])\n",
    "d = -3\n",
    "Bp = B.replace(GAP, '')[:35]\n",
    "Cp = C.replace(GAP, '')[-35:]\n",
    "alignmentB, alignmentC, score = alignOverlap(Bp, Cp, S, d)\n",
    "print('B: ' + B)\n",
    "print('C: ' + C)\n",
    "\n",
    "print('B\\': ' + Bp)\n",
    "print('C\\': ' + Cp)\n",
    "\n",
    "print(alignmentB)\n",
    "print(alignmentC)"
   ]
  },
  {
   "cell_type": "markdown",
   "metadata": {},
   "source": [
    "Run the part 3 for different d[-4:-1]"
   ]
  },
  {
   "cell_type": "code",
   "execution_count": 14,
   "metadata": {
    "collapsed": false
   },
   "outputs": [
    {
     "name": "stdout",
     "output_type": "stream",
     "text": [
      "d = -4, score = 28\n",
      "ATCAGTTTGGAGAGGCCAGCTAAATCGCTGATGGT---------------\n",
      "---------------TCAGCTAAAACGCTGATGGCCACTGACTTGTGATT\n",
      "d = -3, score = 28\n",
      "ATCAGTTTGGAGAGGCCAGCTAAATCGCTGATGGT---------------\n",
      "---------------TCAGCTAAAACGCTGATGGCCACTGACTTGTGATT\n",
      "d = -2, score = 28\n",
      "ATCAGTTTGGAGAGGCCAGCTAAATCGCTGATGGT----------------\n",
      "---------------TCAGCTAAAACGCTGATGG-CCACTGACTTGTGATT\n",
      "d = -1, score = 30\n",
      "ATCAGTTTGGAGAGGC-CAGCTAAATCGCTGATGGT----------------\n",
      "----------------TCAGCTAAAACGCTGATGG-CCACTGACTTGTGATT\n"
     ]
    }
   ],
   "source": [
    "for d in range(-4, 0):\n",
    "    alignmentB, alignmentC, score = alignOverlap(Bp, Cp, S, d)\n",
    "    print('d = {}, score = {}'.format(d, score))\n",
    "    print(alignmentB)\n",
    "    print(alignmentC)"
   ]
  },
  {
   "cell_type": "markdown",
   "metadata": {},
   "source": [
    "d = -1 seems to giving the best result because the algorithm is able to identify the overlapping region. it got the highest score."
   ]
  }
 ],
 "metadata": {
  "kernelspec": {
   "display_name": "Python 3",
   "language": "python",
   "name": "python3"
  },
  "language_info": {
   "codemirror_mode": {
    "name": "ipython",
    "version": 3
   },
   "file_extension": ".py",
   "mimetype": "text/x-python",
   "name": "python",
   "nbconvert_exporter": "python",
   "pygments_lexer": "ipython3",
   "version": "3.5.1"
  }
 },
 "nbformat": 4,
 "nbformat_minor": 0
}
