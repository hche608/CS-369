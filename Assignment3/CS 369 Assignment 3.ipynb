{
 "cells": [
  {
   "cell_type": "markdown",
   "metadata": {},
   "source": [
    "## Introduction"
   ]
  },
  {
   "cell_type": "markdown",
   "metadata": {},
   "source": [
    "Upload 69tree.py, \\*.ipynb and \\*.png files to correcttly display this report"
   ]
  },
  {
   "cell_type": "markdown",
   "metadata": {},
   "source": [
    "# Question 1"
   ]
  },
  {
   "cell_type": "markdown",
   "metadata": {},
   "source": [
    "### 1a"
   ]
  },
  {
   "cell_type": "code",
   "execution_count": 1,
   "metadata": {
    "collapsed": false
   },
   "outputs": [
    {
     "name": "stdout",
     "output_type": "stream",
     "text": [
      "H==>H:0.933333, H==>S:0.020000, H==>T:0.046667\n",
      "S==>H:0.050000, S==>S:0.875000, S==>T:0.075000\n",
      "T==>H:0.083333, T==>S:0.083333, T==>T:0.833333\n"
     ]
    }
   ],
   "source": [
    "STATES = ('H', 'S', 'T')\n",
    "\n",
    "A = {\n",
    "'H': {'H': 14/15, 'S': 1/50, 'T': 7/150},\n",
    "'S': {'H': 1/20, 'S': 35/40, 'T': 3/40},\n",
    "'T': {'H': 1/12, 'S': 1/12, 'T': 5/6},\n",
    "}\n",
    "for a in A:\n",
    "    print('{}==>{}:{:<6f}, {}==>{}:{:<6f}, {}==>{}:{:<6f}'.format(a,'H', A[a]['H'],a,'S', A[a]['S'],a,'T', A[a]['T']))"
   ]
  },
  {
   "cell_type": "markdown",
   "metadata": {},
   "source": [
    "HMM"
   ]
  },
  {
   "cell_type": "markdown",
   "metadata": {},
   "source": [
    "<img src=\"fsm.png\"/>"
   ]
  },
  {
   "cell_type": "code",
   "execution_count": 2,
   "metadata": {
    "collapsed": false
   },
   "outputs": [
    {
     "name": "stdout",
     "output_type": "stream",
     "text": [
      "H==>B:0.300000, H==>I:0.600000, H==>N:0.100000\n",
      "S==>B:0.550000, S==>I:0.150000, S==>N:0.300000\n",
      "T==>B:0.100000, T==>I:0.200000, T==>N:0.700000\n"
     ]
    }
   ],
   "source": [
    "SYMBOLS = ('B', 'I', 'N')\n",
    "\n",
    "E = {\n",
    "'H': {'B': 0.3, 'I': 0.6, 'N': 0.1},\n",
    "'S': {'B': 0.55, 'I': 0.15, 'N': 0.3},\n",
    "'T': {'B': 0.1, 'I': 0.2, 'N': 0.7},\n",
    "}\n",
    "for e in E:\n",
    "    print('{}==>{}:{:<3f}, {}==>{}:{:<3f}, {}==>{}:{:<3f}'.format(e,'B', E[e]['B'],e,'I', E[e]['I'],e,'N', E[e]['N']))"
   ]
  },
  {
   "cell_type": "markdown",
   "metadata": {},
   "source": [
    "The emission probabilities for each state are given by the following table."
   ]
  },
  {
   "cell_type": "markdown",
   "metadata": {},
   "source": [
    "|       |**B**|**I**|**N**|\n",
    "|:-----:|:---:|:---:|:---:|\n",
    "| **H** | 0.3 | 0.6 | 0.1 |\n",
    "| **S** | 0.55| 0.15| 0.3 |\n",
    "| **T** | 0.1 | 0.2 | 0.7 |"
   ]
  },
  {
   "cell_type": "markdown",
   "metadata": {},
   "source": [
    "### 1b"
   ]
  },
  {
   "cell_type": "markdown",
   "metadata": {},
   "source": [
    "Simulate a sequence of length 150 under the HMM."
   ]
  },
  {
   "cell_type": "code",
   "execution_count": 3,
   "metadata": {
    "collapsed": false
   },
   "outputs": [
    {
     "name": "stdout",
     "output_type": "stream",
     "text": [
      "SSSSSSTTHHHHHHHHHHHTTTTTTTTTTTTSSSSSSSSSTTTTSSSSSSSSSSSSSSSSTTTHHHHHHHHHHHHHHHHHHHHHHHSSSSSSHHHHHTTT\n",
      "NBNNBBBNIIIIIIBBBNININNBINNNBININBBIBNNBBNINBBBBBBBBBBIBBBNBNINIBIIBIIBIBIIBNINIIINIBBBBBBIBNBNBBBNN\n",
      "\n",
      "TTTTHHHHHHTHHHHHHHHHHTTTTTTTTHHHHSHHSSSSSSSSSSSSSS\n",
      "NINIIBNIIBIBIBIIIBIBNNNNNNBNNIBBIBIIIINBBBBBNNBBII\n"
     ]
    }
   ],
   "source": [
    "import numpy as np\n",
    "\n",
    "def getProbability(k, Data):\n",
    "    return [k[d] for d in Data]\n",
    "\n",
    "def simulate_hmm(length = 1):\n",
    "    states = []\n",
    "    symbols = []\n",
    "    for _ in range(length):\n",
    "        try:\n",
    "            states.append(np.random.choice(STATES, p=getProbability(A[states[-1]], STATES)))\n",
    "        except IndexError:\n",
    "            states.append(np.random.choice(STATES))\n",
    "        symbols.append(np.random.choice(SYMBOLS, p=getProbability(E[states[-1]], SYMBOLS)))\n",
    "    return states, symbols\n",
    "\n",
    "states, symbols = simulate_hmm(150)\n",
    "print(''.join(states[:100]))\n",
    "print(''.join(symbols[:100]))\n",
    "print()\n",
    "print(''.join(states[100:]))\n",
    "print(''.join(symbols[100:]))"
   ]
  },
  {
   "cell_type": "markdown",
   "metadata": {},
   "source": [
    "### 1c"
   ]
  },
  {
   "cell_type": "markdown",
   "metadata": {},
   "source": [
    "Then we calculate the natural logarithm of the joint probability $log (P (x,\\pi))$ of this sequence."
   ]
  },
  {
   "cell_type": "markdown",
   "metadata": {},
   "source": [
    "We know $P(x,\\pi) = P(x,\\pi|\\mathbf{e,a}) = a_{0 \\pi_1} \\prod_{i = 1}^L e_{\\pi_i}(x_i)a_{\\pi_i \\pi_{i+1}}$"
   ]
  },
  {
   "cell_type": "markdown",
   "metadata": {},
   "source": [
    "$$log(P(x,\\pi)) = log(P(x,\\pi|\\mathbf{e,a})) = log(a_{0 \\pi_1} \\prod_{i = 1}^L e_{\\pi_i}(x_i)a_{\\pi_i \\pi_{i+1}})$$"
   ]
  },
  {
   "cell_type": "markdown",
   "metadata": {},
   "source": [
    "$$log(P(x,\\pi)) = log(P(x,\\pi|\\mathbf{e,a})) = log(a_{0 \\pi_1})+log( \\prod_{i = 1}^L e_{\\pi_i}(x_i)a_{\\pi_i \\pi_{i+1}})$$"
   ]
  },
  {
   "cell_type": "markdown",
   "metadata": {},
   "source": [
    "$$log(P(x,\\pi)) = log(P(x,\\pi|\\mathbf{e,a})) = log(a_{0 \\pi_1})+\\sum_{i = 1}^Llog(e_{\\pi_i}(x_i))+\\sum_{i = 1}^Llog(a_{\\pi_i \\pi_{i+1}})$$"
   ]
  },
  {
   "cell_type": "code",
   "execution_count": 4,
   "metadata": {
    "collapsed": false
   },
   "outputs": [
    {
     "name": "stdout",
     "output_type": "stream",
     "text": [
      "logp: -214.076113413\n"
     ]
    },
    {
     "data": {
      "text/plain": [
       "-214.076113413294"
      ]
     },
     "execution_count": 4,
     "metadata": {},
     "output_type": "execute_result"
    }
   ],
   "source": [
    "def joint_logp(states, symbols):\n",
    "    logp = np.log(1/3.0)    \n",
    "    if len(states) > 0:\n",
    "        for i in range(len(states)):\n",
    "            logp += np.log(E[states[i]][symbols[i]])\n",
    "            try:\n",
    "                logp += np.log(A[states[i]][states[i+1]])\n",
    "            except IndexError:\n",
    "                pass\n",
    "    print('logp: ' + str(logp))\n",
    "    return logp\n",
    "joint_logp(states, symbols)"
   ]
  },
  {
   "cell_type": "markdown",
   "metadata": {},
   "source": [
    "$$log(P(x,\\pi)) = log(P(x,\\pi|\\mathbf{e,a})) = log(a_{0 \\pi_1} \\prod_{i = 1}^L e_{\\pi_i}(x_i)a_{\\pi_i \\pi_{i+1}})$$"
   ]
  },
  {
   "cell_type": "code",
   "execution_count": 5,
   "metadata": {
    "collapsed": false
   },
   "outputs": [
    {
     "name": "stdout",
     "output_type": "stream",
     "text": [
      "logp: -214.209644806\n"
     ]
    },
    {
     "data": {
      "text/plain": [
       "-214.20964480591851"
      ]
     },
     "execution_count": 5,
     "metadata": {},
     "output_type": "execute_result"
    }
   ],
   "source": [
    "def joint_logp2(states, symbols):\n",
    "    val = 0    \n",
    "    if len(states) > 0:\n",
    "        val += 1/3.0\n",
    "        for i in range(len(states)):\n",
    "            try:\n",
    "                val *= E[states[i]][symbols[i]] * A[states[i]][states[i+1]]\n",
    "            except IndexError:\n",
    "                val *= E[states[i]][symbols[i]] * A[states[i]][states[i]]\n",
    "    print('logp: ' + str(np.log(val)))\n",
    "    return np.log(val)\n",
    "joint_logp2(states, symbols)"
   ]
  },
  {
   "cell_type": "markdown",
   "metadata": {},
   "source": [
    "Given $x, \\pi$\n",
    "\n",
    "$$x = B,I,N,B,N,I,N,B,N,I,N,B,I,N,B,I,I,N,B,B,N,B$$\n",
    "$$\\pi = S,S,H,H,H,T,T,S,S,S,H,H,H,H,H,H,S,S,S,S,S,S$$"
   ]
  },
  {
   "cell_type": "code",
   "execution_count": 6,
   "metadata": {
    "collapsed": false
   },
   "outputs": [
    {
     "name": "stdout",
     "output_type": "stream",
     "text": [
      "SSHHHTTSSSHHHHHHSSSSSS\n",
      "BINBNINBNINBINBIINBBNB\n"
     ]
    }
   ],
   "source": [
    "pi = ['S','S','H','H','H','T','T','S','S','S','H','H','H','H','H','H','S','S','S','S','S','S']\n",
    "x = ['B','I','N','B','N','I','N','B','N','I','N','B','I','N','B','I','I','N','B','B','N','B']\n",
    "print(''.join(pi))\n",
    "print(''.join(x))"
   ]
  },
  {
   "cell_type": "code",
   "execution_count": 7,
   "metadata": {
    "collapsed": false
   },
   "outputs": [
    {
     "name": "stdout",
     "output_type": "stream",
     "text": [
      "logp: -46.3877406945\n"
     ]
    },
    {
     "data": {
      "text/plain": [
       "-46.387740694504309"
      ]
     },
     "execution_count": 7,
     "metadata": {},
     "output_type": "execute_result"
    }
   ],
   "source": [
    "joint_logp(pi, x)"
   ]
  },
  {
   "cell_type": "code",
   "execution_count": 8,
   "metadata": {
    "collapsed": false
   },
   "outputs": [
    {
     "name": "stdout",
     "output_type": "stream",
     "text": [
      "logp: -46.5212720871\n"
     ]
    },
    {
     "data": {
      "text/plain": [
       "-46.521272087128857"
      ]
     },
     "execution_count": 8,
     "metadata": {},
     "output_type": "execute_result"
    }
   ],
   "source": [
    "joint_logp2(pi, x)"
   ]
  },
  {
   "cell_type": "markdown",
   "metadata": {},
   "source": [
    "### 1d"
   ]
  },
  {
   "cell_type": "markdown",
   "metadata": {},
   "source": [
    "The log probability of the simulated symbols is given by the forward algorithm."
   ]
  },
  {
   "cell_type": "markdown",
   "metadata": {},
   "source": [
    "$$F_l(i) = \\log \\left[ e_l(x_i) \\sum_k  f_k(i-1)a_{kl})\\right]  = E_l(x_i) +  \\log \\left[\\sum_k  f_k(i-1)a_{kl})\\right]$$"
   ]
  },
  {
   "cell_type": "markdown",
   "metadata": {},
   "source": [
    "$$P(x) = logsum_k (F_k(L))$$"
   ]
  },
  {
   "cell_type": "markdown",
   "metadata": {},
   "source": [
    "$$log(P(x))=log(logsum_k (F_k(L)))$$"
   ]
  },
  {
   "cell_type": "code",
   "execution_count": 9,
   "metadata": {
    "collapsed": true
   },
   "outputs": [],
   "source": [
    "def logsum(x):\n",
    "    return x[0] + np.log(np.sum(np.exp(x - x[0])))\n",
    "\n",
    "def forward(x):\n",
    "    logp = np.array([0.0] * len(STATES))\n",
    "    if len(x) > 0:\n",
    "        for i, st in enumerate(STATES):\n",
    "            logp[i] = np.log(E[st][x[0]]) - np.log(len(STATES))\n",
    "        for sy in x[1:]:\n",
    "            prev = logp\n",
    "            logp = np.array([0.0] * len(STATES))\n",
    "            for i, st in enumerate(STATES):\n",
    "                logp[i] = np.log(E[st][sy]) + logsum([prev[j] + np.log(A[k][st]) for j, k in enumerate(STATES)])\n",
    "    return logsum(logp)"
   ]
  },
  {
   "cell_type": "markdown",
   "metadata": {},
   "source": [
    "For $symbols$ defined as above, $\\log{\\left(P\\left(symbols\\right)\\right)}$ is"
   ]
  },
  {
   "cell_type": "code",
   "execution_count": 10,
   "metadata": {
    "collapsed": false
   },
   "outputs": [
    {
     "name": "stdout",
     "output_type": "stream",
     "text": [
      "-158.936746861\n"
     ]
    }
   ],
   "source": [
    "print(forward(symbols))"
   ]
  },
  {
   "cell_type": "markdown",
   "metadata": {},
   "source": [
    "For $x$ defined as above, $\\log{\\left(P\\left(x\\right)\\right)}$ is"
   ]
  },
  {
   "cell_type": "code",
   "execution_count": 11,
   "metadata": {
    "collapsed": false
   },
   "outputs": [
    {
     "name": "stdout",
     "output_type": "stream",
     "text": [
      "-27.3105072553\n"
     ]
    }
   ],
   "source": [
    "print(forward(x))"
   ]
  },
  {
   "cell_type": "markdown",
   "metadata": {},
   "source": [
    "In both of these examples, $P\\left(x, \\pi\\right) \\leq P\\left(x\\right)$. This is true in general because\n",
    "$$P\\left(x\\right) = \\sum_{\\pi^\\prime}{P\\left(x, \\pi^\\prime\\right)} = \\sum_{\\pi^\\prime\\neq\\pi}{P\\left(x, \\pi^\\prime\\right)} + P\\left(x, \\pi\\right) \\geq P\\left(x, \\pi\\right)$$"
   ]
  },
  {
   "cell_type": "markdown",
   "metadata": {},
   "source": [
    "### 1e"
   ]
  },
  {
   "cell_type": "markdown",
   "metadata": {},
   "source": [
    "We can use the log of the forward matrix $F$ to perform the first step of the stochastic traceback algorithm\n",
    "$$P\\left(\\pi_L = k \\mid x\\right) = \\frac{f_k\\left(L\\right)}{P\\left(x\\right)} = \\exp{\\left(F_k\\left(L\\right) - \\log{\\left(P\\left(x\\right)\\right)}\\right)}$$"
   ]
  },
  {
   "cell_type": "markdown",
   "metadata": {},
   "source": [
    "# Question 2"
   ]
  },
  {
   "cell_type": "markdown",
   "metadata": {},
   "source": [
    "### 2a"
   ]
  },
  {
   "cell_type": "markdown",
   "metadata": {},
   "source": [
    "A method that simulates trees according to the Yule model with takes as input the number of leaves, $n$, and the branching parameter, $\\lambda$."
   ]
  },
  {
   "cell_type": "markdown",
   "metadata": {},
   "source": [
    "The Yule model is a branching process that suggests a method of constructing trees with $n$ leaves. From each leaf, start a lineage going back in time. Each lineage coalesces with others at rate $\\lambda$. When there $k$ lineages, the total rate\n",
    "of coalescence in the tree is $k\\lambda$. Thus, we can generate a Yule tree with $n$ leaves as follows:"
   ]
  },
  {
   "cell_type": "code",
   "execution_count": 12,
   "metadata": {
    "collapsed": false
   },
   "outputs": [],
   "source": [
    "from matplotlib import pyplot as plt\n",
    "from tree69 import plot_tree\n",
    "from tree69 import Tree\n",
    "from tree69 import Node\n",
    "%matplotlib inline\n",
    "\n",
    "\n",
    "def randexp(lamda): # lambda is a keyword in Python\n",
    "    return -1 * np.log(np.random.random()) / lamda\n",
    "\n",
    "def random_ts(n, lamda):\n",
    "    arrivalTime = []\n",
    "    k=n\n",
    "    t = 0.0\n",
    "    while k > 1:\n",
    "        t += randexp(lamda*k)\n",
    "        arrivalTime.append(t)\n",
    "        k -= 1\n",
    "    arrivalTime.sort() # early => later\n",
    "    return arrivalTime"
   ]
  },
  {
   "cell_type": "markdown",
   "metadata": {},
   "source": [
    "To simulate a tree, we create a parent node with the next speciation time and assign it two children chosen uniformly at random from the available nodes. Then we remove these children from the available nodes and add the parent. We repeat this procedure $n-1$ times until there is only one available node, the root of the tree."
   ]
  },
  {
   "cell_type": "code",
   "execution_count": 13,
   "metadata": {
    "collapsed": false
   },
   "outputs": [],
   "source": [
    "def simulateTree(lamda, k):\n",
    "    nodes = []\n",
    "    for i in map(str, range(1, k+1)):\n",
    "        n = Node(i)\n",
    "        n.set_height(0)\n",
    "        nodes.append(n)    \n",
    "    for t in random_ts(k, lamda):\n",
    "        m = Node()\n",
    "        i, j = np.random.choice(nodes, 2, replace=False)\n",
    "        m.set_height(t)\n",
    "        m.add_child(i)\n",
    "        m.add_child(j)\n",
    "        nodes.append(m)\n",
    "        nodes.remove(i)\n",
    "        nodes.remove(j)\n",
    "    return Tree(nodes[0])"
   ]
  },
  {
   "cell_type": "markdown",
   "metadata": {},
   "source": [
    "Simulate $1000$ trees with $\\lambda = 0.5$ and $n = 10$ and compute their mean height."
   ]
  },
  {
   "cell_type": "code",
   "execution_count": 14,
   "metadata": {
    "collapsed": false
   },
   "outputs": [
    {
     "data": {
      "text/plain": [
       "3.888527278256352"
      ]
     },
     "execution_count": 14,
     "metadata": {},
     "output_type": "execute_result"
    }
   ],
   "source": [
    "np.mean([simulateTree(0.5, 10).get_root().get_height() for _ in range(1000)])"
   ]
  },
  {
   "cell_type": "markdown",
   "metadata": {},
   "source": [
    "This statistic agrees with the theoretical mean $3.86$."
   ]
  },
  {
   "cell_type": "markdown",
   "metadata": {},
   "source": [
    "plot a tree with $\\lambda = 0.5$ and $n = 10$."
   ]
  },
  {
   "cell_type": "code",
   "execution_count": 15,
   "metadata": {
    "collapsed": false
   },
   "outputs": [
    {
     "data": {
      "image/png": "[encoded data removed]",
      "text/plain": [
       "<matplotlib.figure.Figure at 0x7f89fec15e48>"
      ]
     },
     "metadata": {},
     "output_type": "display_data"
    }
   ],
   "source": [
    "tree = simulateTree(0.5, 10)\n",
    "plot_tree(tree)"
   ]
  },
  {
   "cell_type": "markdown",
   "metadata": {},
   "source": [
    "### 2b"
   ]
  },
  {
   "cell_type": "markdown",
   "metadata": {},
   "source": [
    "Next, simulate sequences down a simulated tree according to the Jukes-Cantor model.\n",
    "The method takes a tree with $n$ leaves, sequence length $L$, and a mutation rate $\\mu$. It should return either a matrix of sequences corresponding to nodes in the tree or the tree with sequences stored at the nodes."
   ]
  },
  {
   "cell_type": "code",
   "execution_count": 16,
   "metadata": {
    "collapsed": true
   },
   "outputs": [],
   "source": [
    "BASES = ('A', 'C', 'G', 'T')\n",
    "def randomSequence(length):\n",
    "    return ''.join(np.random.choice(BASES, size=length))"
   ]
  },
  {
   "cell_type": "markdown",
   "metadata": {},
   "source": [
    "The sequence at a non-root node simulated by mutating its parent node's sequence for the time given by the difference in their heights. Over time $t$ a nucleotide $x$ in a sequence $S$ mutates with rate $\\mu$ to each of the other bases with probability\n",
    "$$p_{x \\neq y} = \\frac{1}{4} - \\frac{1}{4} \\exp{\\left(-\\frac{4}{3} \\mu t\\right)}$$\n",
    "or stays the same with probability\n",
    "$$p_{x = y} = \\frac{1}{4} + \\frac{3}{4} \\exp{\\left(-\\frac{4}{3} \\mu t\\right)}$$"
   ]
  },
  {
   "cell_type": "code",
   "execution_count": 17,
   "metadata": {
    "collapsed": true
   },
   "outputs": [],
   "source": [
    "def mutateSequence(S, mu, t):\n",
    "    eq = 1/4 + 3/4 * np.exp(-4/3 * mu * t)\n",
    "    neq = 1/4 - 1/4 * np.exp(-4/3 * mu * t)\n",
    "    p = {x : [eq if y == x else neq for y in BASES] for x in BASES}\n",
    "    return ''.join(np.random.choice(BASES, p=p[x]) for x in S)\n",
    "\n",
    "def simulateSequences(node, mu, length=None):\n",
    "    if length:\n",
    "        node = node.get_root()\n",
    "        node.set_sequence(randomSequence(length))\n",
    "    if not node.is_root():\n",
    "        parent = node.get_parent()\n",
    "        t = parent.get_height() - node.get_height()\n",
    "        S = mutateSequence(parent.get_sequence(), mu, t)\n",
    "        node.set_sequence(S)\n",
    "    if not node.is_leaf():\n",
    "        for child in node.get_children():\n",
    "            simulateSequences(child, mu)"
   ]
  },
  {
   "cell_type": "markdown",
   "metadata": {},
   "source": [
    "Simulate a tree with $\\lambda=0.5$ and $n = 10$ and $L=20$ and $\\mu=0.5$."
   ]
  },
  {
   "cell_type": "code",
   "execution_count": 18,
   "metadata": {
    "collapsed": false
   },
   "outputs": [],
   "source": [
    "simulateSequences(tree, 0.5, 20)"
   ]
  },
  {
   "cell_type": "code",
   "execution_count": 19,
   "metadata": {
    "collapsed": false
   },
   "outputs": [],
   "source": [
    "def getSequences(tree):\n",
    "    return sorted(tree.get_leaves(), key=lambda l: int(l.get_label()))\n",
    "sequences = getSequences(tree)"
   ]
  },
  {
   "cell_type": "markdown",
   "metadata": {},
   "source": [
    "### 2c\n",
    "Method to calculate the Jukes-Cantor distance matrix"
   ]
  },
  {
   "cell_type": "code",
   "execution_count": 20,
   "metadata": {
    "collapsed": false
   },
   "outputs": [
    {
     "name": "stdout",
     "output_type": "stream",
     "text": [
      "1  : GACGGATAAGGGAGCGTGGC\n",
      "2  : ACATACGAGGATGTCCGGTG\n",
      "3  : GAGCGGGTGCTACGGAGAGG\n",
      "4  : GCAAGGTATATTACAAAGTA\n",
      "5  : GATAACTTGGTGACAAAGTC\n",
      "6  : GTGCCCAAGTCTGCCAAGGC\n",
      "7  : CACGTGCCTGCTATGCACTC\n",
      "8  : AGACACGAGGGTGTGCGGAG\n",
      "9  : TTGTGATAAAGTACTGGGGT\n",
      "10 : AGATACCAGGATGTGCGGAG\n"
     ]
    }
   ],
   "source": [
    "for seq in sequences:\n",
    "    print('{:<3}: {}'.format(seq.get_label(), seq.get_sequence()))"
   ]
  },
  {
   "cell_type": "markdown",
   "metadata": {},
   "source": [
    "Jukes-Cantor distance for sequences x and y is defined by\n",
    "$$d_{xy} = -\\frac{3}{4} \\log{\\left(1 - \\frac{4f_{xy}}{3}\\right)}$$\n",
    "where $f_{xy}$ is the fraction of differing sites between $x$ and $y$. Since we will be\n",
    "dealing with short sequences, use the following definition of $f_{xy}$ so that the\n",
    "distances are well-defined:\n",
    "$$f_{xy} = \\min{\\left(\\frac{D_{xy}}{L}, 0.75 - \\frac{1}{L}\\right)}$$\n",
    "where $D_{xy}$ is the number of differing sites between $x$ and $y$ and $L$ is the length\n",
    "of $x$."
   ]
  },
  {
   "cell_type": "code",
   "execution_count": 21,
   "metadata": {
    "collapsed": false
   },
   "outputs": [],
   "source": [
    "def D(x, y):\n",
    "    return sum(a != b for a, b in zip(x, y))\n",
    "\n",
    "def f(x, y):\n",
    "    L = len(x)\n",
    "    return min(D(x,y) / L, 3/4 - 1/L)\n",
    "\n",
    "def d(x, y):\n",
    "    return - 3/4 * np.log(1 - 4/3 * f(x, y))"
   ]
  },
  {
   "cell_type": "markdown",
   "metadata": {},
   "source": [
    "We can find the distance matrix for a set of sequences by computing $d_{xy}$ for all pairs $x$ and $y$."
   ]
  },
  {
   "cell_type": "code",
   "execution_count": 22,
   "metadata": {
    "collapsed": false
   },
   "outputs": [],
   "source": [
    "def distanceMatrix(sequences):\n",
    "    sequences = list(map(Node.get_sequence, sequences))\n",
    "    return [[d(x, y) for y in sequences] for x in sequences]"
   ]
  },
  {
   "cell_type": "markdown",
   "metadata": {},
   "source": [
    "Below is the distance matrix for our previously simulated sequences."
   ]
  },
  {
   "cell_type": "code",
   "execution_count": 23,
   "metadata": {
    "collapsed": false
   },
   "outputs": [
    {
     "name": "stdout",
     "output_type": "stream",
     "text": [
      "0.000 2.031 2.031 2.031 1.207 2.031 2.031 2.031 0.824 2.031\n",
      "2.031 0.000 2.031 2.031 2.031 1.511 2.031 0.304 2.031 0.233\n",
      "2.031 2.031 0.000 2.031 2.031 2.031 2.031 2.031 2.031 2.031\n",
      "2.031 2.031 2.031 0.000 0.687 1.511 2.031 2.031 1.207 2.031\n",
      "1.207 2.031 2.031 0.687 0.000 1.207 2.031 2.031 2.031 2.031\n",
      "2.031 1.511 2.031 1.511 1.207 0.000 2.031 1.511 1.511 2.031\n",
      "2.031 2.031 2.031 2.031 2.031 2.031 0.000 2.031 2.031 2.031\n",
      "2.031 0.304 2.031 2.031 2.031 1.511 2.031 0.000 2.031 0.167\n",
      "0.824 2.031 2.031 1.207 2.031 1.511 2.031 2.031 0.000 2.031\n",
      "2.031 0.233 2.031 2.031 2.031 2.031 2.031 0.167 2.031 0.000\n"
     ]
    }
   ],
   "source": [
    "for row in distanceMatrix(sequences):\n",
    "    print(' '.join(map('{:.3f}'.format, [x+0 for x in row])))"
   ]
  },
  {
   "cell_type": "markdown",
   "metadata": {},
   "source": [
    "To compare the quality of UPGMA reconstruction of the previously simulated tree for simulated sequences of lengths $L \\in \\left\\{20, 50, 200\\right\\}$ mutating with rate $\\mu = 0.1$. First we create the distance matrices."
   ]
  },
  {
   "cell_type": "markdown",
   "metadata": {},
   "source": [
    "### 2d"
   ]
  },
  {
   "cell_type": "code",
   "execution_count": 24,
   "metadata": {
    "collapsed": false
   },
   "outputs": [
    {
     "data": {
      "image/png": "[encoded data removed]",
      "text/plain": [
       "<matplotlib.figure.Figure at 0x7f89fc317da0>"
      ]
     },
     "metadata": {},
     "output_type": "display_data"
    }
   ],
   "source": [
    "from tree69 import compute_upgma_tree\n",
    "\n",
    "simulateSequences(tree, 0.1, 20)\n",
    "plot_tree(compute_upgma_tree(distanceMatrix(getSequences(tree))))"
   ]
  },
  {
   "cell_type": "code",
   "execution_count": 25,
   "metadata": {
    "collapsed": false
   },
   "outputs": [
    {
     "data": {
      "image/png": "[encoded data removed]",
      "text/plain": [
       "<matplotlib.figure.Figure at 0x7f89fc26d208>"
      ]
     },
     "metadata": {},
     "output_type": "display_data"
    }
   ],
   "source": [
    "simulateSequences(tree, 0.1, 50)\n",
    "plot_tree(compute_upgma_tree(distanceMatrix(getSequences(tree))))"
   ]
  },
  {
   "cell_type": "code",
   "execution_count": 26,
   "metadata": {
    "collapsed": false
   },
   "outputs": [
    {
     "data": {
      "image/png": "[encoded data removed]",
      "text/plain": [
       "<matplotlib.figure.Figure at 0x7f89fc13ad30>"
      ]
     },
     "metadata": {},
     "output_type": "display_data"
    }
   ],
   "source": [
    "simulateSequences(tree, 0.1, 200)\n",
    "plot_tree(compute_upgma_tree(distanceMatrix(getSequences(tree))))"
   ]
  },
  {
   "cell_type": "markdown",
   "metadata": {},
   "source": [
    "### 2e"
   ]
  },
  {
   "cell_type": "markdown",
   "metadata": {},
   "source": [
    "From the Reconstructed Tree Diagram. We could be sure that increasing length of sequence will increase the accuracy."
   ]
  }
 ],
 "metadata": {
  "kernelspec": {
   "display_name": "Python 3",
   "language": "python",
   "name": "python3"
  },
  "language_info": {
   "codemirror_mode": {
    "name": "ipython",
    "version": 3
   },
   "file_extension": ".py",
   "mimetype": "text/x-python",
   "name": "python",
   "nbconvert_exporter": "python",
   "pygments_lexer": "ipython3",
   "version": "3.5.1"
  }
 },
 "nbformat": 4,
 "nbformat_minor": 0
}
